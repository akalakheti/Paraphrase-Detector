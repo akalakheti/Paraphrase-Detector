{
  "nbformat": 4,
  "nbformat_minor": 0,
  "metadata": {
    "colab": {
      "name": "Paraphrase Detection.ipynb",
      "provenance": []
    },
    "kernelspec": {
      "name": "python3",
      "display_name": "Python 3"
    },
    "accelerator": "GPU"
  },
  "cells": [
    {
      "cell_type": "markdown",
      "metadata": {
        "id": "IGgltn0eIVEU",
        "colab_type": "text"
      },
      "source": [
        "# Paraphrase Detection\n",
        "In this notebook we will be using distilbert model from transformers to classify whether a given text is paraphrase of other text. We will be using TensorFlow 2.0 for this task."
      ]
    },
    {
      "cell_type": "markdown",
      "metadata": {
        "id": "476vpu_1Lf9U",
        "colab_type": "text"
      },
      "source": [
        "Ensure that we are using TensorFlow 2.x"
      ]
    },
    {
      "cell_type": "code",
      "metadata": {
        "id": "k3kwKTQxtMpU",
        "colab_type": "code",
        "outputId": "6a47b372-93c1-452e-8f09-b4b82103d009",
        "colab": {
          "base_uri": "https://localhost:8080/",
          "height": 34
        }
      },
      "source": [
        "%tensorflow_version 2.x"
      ],
      "execution_count": 0,
      "outputs": [
        {
          "output_type": "stream",
          "text": [
            "TensorFlow 2.x selected.\n"
          ],
          "name": "stdout"
        }
      ]
    },
    {
      "cell_type": "markdown",
      "metadata": {
        "id": "EQrVakh-LkSp",
        "colab_type": "text"
      },
      "source": [
        "Install transformers"
      ]
    },
    {
      "cell_type": "code",
      "metadata": {
        "id": "SDHzi63CuLpp",
        "colab_type": "code",
        "colab": {}
      },
      "source": [
        "!pip install transformers"
      ],
      "execution_count": 0,
      "outputs": []
    },
    {
      "cell_type": "markdown",
      "metadata": {
        "id": "ZdIdLXGhLtZb",
        "colab_type": "text"
      },
      "source": [
        "Import required libraries."
      ]
    },
    {
      "cell_type": "code",
      "metadata": {
        "id": "TxmAStCRtZSD",
        "colab_type": "code",
        "colab": {}
      },
      "source": [
        "import tensorflow as tf\n",
        "import tensorflow_datasets as tfds\n",
        "from transformers import *"
      ],
      "execution_count": 0,
      "outputs": []
    },
    {
      "cell_type": "markdown",
      "metadata": {
        "id": "Jylh_di0LxAb",
        "colab_type": "text"
      },
      "source": [
        "Provide the name of the model you want to use. We will be using distilbert-base-uncased."
      ]
    },
    {
      "cell_type": "code",
      "metadata": {
        "id": "Fov5w6Lqy0TR",
        "colab_type": "code",
        "colab": {}
      },
      "source": [
        "MODEL_NAME = 'distilbert-base-uncased'"
      ],
      "execution_count": 0,
      "outputs": []
    },
    {
      "cell_type": "markdown",
      "metadata": {
        "id": "C_TwhSbJL7AS",
        "colab_type": "text"
      },
      "source": [
        "Creata a tokenizer for distilbert as an instance of DistilBertTokenizer class and using the pretrained model we want to use."
      ]
    },
    {
      "cell_type": "code",
      "metadata": {
        "id": "FO-GaJ1VuUk4",
        "colab_type": "code",
        "colab": {}
      },
      "source": [
        "tokenizer = DistilBertTokenizer.from_pretrained(MODEL_NAME)"
      ],
      "execution_count": 0,
      "outputs": []
    },
    {
      "cell_type": "markdown",
      "metadata": {
        "id": "r-QnSIOsMKo6",
        "colab_type": "text"
      },
      "source": [
        "Now, Let's instantiate the model. From TFDistilBertForSequnceClassification, we need to create a pretrained model."
      ]
    },
    {
      "cell_type": "code",
      "metadata": {
        "id": "vIWuUfH5MYhU",
        "colab_type": "code",
        "colab": {}
      },
      "source": [
        "classifier = TFDistilBertForSequenceClassification.from_pretrained(MODEL_NAME)"
      ],
      "execution_count": 0,
      "outputs": []
    },
    {
      "cell_type": "markdown",
      "metadata": {
        "id": "Da2avsJ6MhxT",
        "colab_type": "text"
      },
      "source": [
        "Now, it's time for creating dataset. Let's download GLUE (MRPC) dataset from tensorflow datasets library."
      ]
    },
    {
      "cell_type": "code",
      "metadata": {
        "id": "9EnvwRrhMbxj",
        "colab_type": "code",
        "colab": {}
      },
      "source": [
        "data = tfds.load('glue/mrpc')"
      ],
      "execution_count": 0,
      "outputs": []
    },
    {
      "cell_type": "markdown",
      "metadata": {
        "id": "cxrSpiDmMwEJ",
        "colab_type": "text"
      },
      "source": [
        "Let's separate train and test data and also convert then into the type that the model accepts i.e. features."
      ]
    },
    {
      "cell_type": "code",
      "metadata": {
        "id": "Qb-SiH_Ev-Yq",
        "colab_type": "code",
        "colab": {}
      },
      "source": [
        "train = glue_convert_examples_to_features(dataset['train'], tokenizer, max_length=128, task='mrpc')\n",
        "test = glue_convert_examples_to_features(dataset['validation'], tokenizer, max_length=128, task='mrpc')"
      ],
      "execution_count": 0,
      "outputs": []
    },
    {
      "cell_type": "code",
      "metadata": {
        "id": "YjFla_jXxkYm",
        "colab_type": "code",
        "colab": {}
      },
      "source": [
        "train = train.shuffle(100).batch(32).repeat(5)\n",
        "test = test.batch(64)"
      ],
      "execution_count": 0,
      "outputs": []
    },
    {
      "cell_type": "markdown",
      "metadata": {
        "id": "fPNbs3ekM60R",
        "colab_type": "text"
      },
      "source": [
        "Let's compile the model with desired optimizer,loss function and metrics."
      ]
    },
    {
      "cell_type": "code",
      "metadata": {
        "id": "QL-V4_zpwQMk",
        "colab_type": "code",
        "colab": {}
      },
      "source": [
        "classifier.compile(optimizer='adam', loss='sparse_categorical_crossentropy', metrics=['sparse_categorical_accuracy'])"
      ],
      "execution_count": 0,
      "outputs": []
    },
    {
      "cell_type": "markdown",
      "metadata": {
        "id": "KSO-piQCNAni",
        "colab_type": "text"
      },
      "source": [
        "Finally, Let's train the model."
      ]
    },
    {
      "cell_type": "code",
      "metadata": {
        "id": "x9Znt8zXxVdn",
        "colab_type": "code",
        "outputId": "9439a757-ddcb-4171-f735-73e790616eae",
        "colab": {
          "base_uri": "https://localhost:8080/",
          "height": 168
        }
      },
      "source": [
        "history = classifier.fit(train, epochs=4, steps_per_epoch=115,\n",
        "                    validation_data=test)"
      ],
      "execution_count": 0,
      "outputs": [
        {
          "output_type": "stream",
          "text": [
            "Train for 115 steps\n",
            "Epoch 1/4\n",
            "115/115 [==============================] - 36s 314ms/step - loss: 0.6931 - sparse_categorical_accuracy: 0.6745 - val_loss: 0.6931 - val_sparse_categorical_accuracy: 0.6838\n",
            "Epoch 2/4\n",
            "115/115 [==============================] - 29s 250ms/step - loss: 0.6931 - sparse_categorical_accuracy: 0.6745 - val_loss: 0.6931 - val_sparse_categorical_accuracy: 0.6838\n",
            "Epoch 3/4\n",
            "115/115 [==============================] - 29s 250ms/step - loss: 0.6931 - sparse_categorical_accuracy: 0.6745 - val_loss: 0.6931 - val_sparse_categorical_accuracy: 0.6838\n",
            "Epoch 4/4\n",
            "115/115 [==============================] - 29s 250ms/step - loss: 0.6931 - sparse_categorical_accuracy: 0.6745 - val_loss: 0.6931 - val_sparse_categorical_accuracy: 0.6838\n"
          ],
          "name": "stdout"
        }
      ]
    },
    {
      "cell_type": "markdown",
      "metadata": {
        "id": "COY_hbAdNEby",
        "colab_type": "text"
      },
      "source": [
        "Evalute our trained model."
      ]
    },
    {
      "cell_type": "code",
      "metadata": {
        "id": "n0t4iqI7AuQr",
        "colab_type": "code",
        "outputId": "ce686a70-b5df-4e1c-ca57-5ceed445e992",
        "colab": {
          "base_uri": "https://localhost:8080/",
          "height": 34
        }
      },
      "source": [
        "classifier.evaluate(test)"
      ],
      "execution_count": 0,
      "outputs": [
        {
          "output_type": "stream",
          "text": [
            "      7/Unknown - 1s 152ms/step - loss: 0.6931 - sparse_categorical_accuracy: 0.6838"
          ],
          "name": "stdout"
        },
        {
          "output_type": "execute_result",
          "data": {
            "text/plain": [
              "[0.6931471824645996, 0.6838235]"
            ]
          },
          "metadata": {
            "tags": []
          },
          "execution_count": 94
        }
      ]
    },
    {
      "cell_type": "markdown",
      "metadata": {
        "id": "P_4TRbN-NMra",
        "colab_type": "text"
      },
      "source": [
        "Let's test the model on our own text. I know that these texts I provided are paraphrase. Let's see if the model can predict the same. "
      ]
    },
    {
      "cell_type": "code",
      "metadata": {
        "id": "T1ZQS9VfNJLx",
        "colab_type": "code",
        "colab": {}
      },
      "source": [
        "text1 = \"My name is Rachin.\"\n",
        "text2 = \"I am Rachin.\""
      ],
      "execution_count": 0,
      "outputs": []
    },
    {
      "cell_type": "code",
      "metadata": {
        "id": "tC4wuexmGhAB",
        "colab_type": "code",
        "outputId": "39658a9d-c97a-431c-962e-cfb6cea2b28c",
        "colab": {
          "base_uri": "https://localhost:8080/",
          "height": 34
        }
      },
      "source": [
        "inputs_ids = tokenizer.encode_plus(text1, text2, return_tensors='tf')\n",
        "\n",
        "pred = classifier(inputs_ids['input_ids'])[0].numpy().argmax().item()\n",
        "print(\"text2 is\", \"a paraphrase\" if pred else \"not a paraphrase\", \"of text1\")"
      ],
      "execution_count": 0,
      "outputs": [
        {
          "output_type": "stream",
          "text": [
            "text2 is a paraphrase of text1\n"
          ],
          "name": "stdout"
        }
      ]
    },
    {
      "cell_type": "markdown",
      "metadata": {
        "id": "cohvRL1yNcai",
        "colab_type": "text"
      },
      "source": [
        "# Conclusion:\n",
        "The availability of transformers in TF2 has made this task so simple and easy. We could see that the model predicted correctly on our provided text. This means the model is pretty accurate and could be used."
      ]
    }
  ]
}